{
 "cells": [
  {
   "cell_type": "markdown",
   "id": "7b4690ae-bfeb-4e55-90bd-12afc6f70673",
   "metadata": {},
   "source": [
    "<h1>Содержание<span class=\"tocSkip\"></span></h1>\n",
    "<div class=\"toc\"><ul class=\"toc-item\"><li><span><a href=\"#Подготовка\" data-toc-modified-id=\"Подготовка-1\"><span class=\"toc-item-num\">1&nbsp;&nbsp;</span>Подготовка</a></span></li><li><span><a href=\"#Обучение\" data-toc-modified-id=\"Обучение-2\"><span class=\"toc-item-num\">2&nbsp;&nbsp;</span>Обучение</a></span></li><li><span><a href=\"#Выводы\" data-toc-modified-id=\"Выводы-3\"><span class=\"toc-item-num\">3&nbsp;&nbsp;</span>Выводы</a></span></li><li><span><a href=\"#Чек-лист-проверки\" data-toc-modified-id=\"Чек-лист-проверки-4\"><span class=\"toc-item-num\">4&nbsp;&nbsp;</span>Чек-лист проверки</a></span></li></ul></div>"
   ]
  },
  {
   "cell_type": "markdown",
   "id": "453ac1ee-69ba-450e-b76d-373bae96923a",
   "metadata": {},
   "source": [
    "# Проект для «Викишоп»\n",
    "Интернет-магазин «Викишоп» запускает новый сервис. Теперь пользователи могут редактировать и дополнять описания товаров, как в вики-сообществах. То есть клиенты предлагают свои правки и комментируют изменения других. Магазину нужен инструмент, который будет искать токсичные комментарии и отправлять их на модерацию. \n",
    "\n",
    "Необходимо обучить модель классифицировать комментарии на позитивные и негативные.\n",
    "\n",
    "И построить модель со значением метрики качества *F1* не меньше 0.75. "
   ]
  },
  {
   "cell_type": "markdown",
   "id": "b5c0216e-ab1a-4880-8b5f-5bcc00cb92ed",
   "metadata": {},
   "source": [
    "## Подготовка"
   ]
  },
  {
   "cell_type": "code",
   "execution_count": 1,
   "id": "6c3a6362-8253-41db-86f4-761e6dd4e0df",
   "metadata": {},
   "outputs": [],
   "source": [
    "import pandas as pd\n",
    "from nltk.stem import WordNetLemmatizer \n",
    "from nltk.corpus import wordnet, stopwords\n",
    "\n",
    "import nltk\n",
    "import re\n",
    "import torch\n",
    "import numpy as np\n",
    "\n",
    "import matplotlib.pyplot as plt\n",
    "import seaborn as sns\n",
    "\n",
    "from tqdm import notebook\n",
    "\n",
    "from sklearn import preprocessing\n",
    "from sklearn import feature_selection \n",
    "from sklearn.model_selection import cross_val_score, train_test_split\n",
    "from sklearn.pipeline import Pipeline\n",
    "from sklearn.tree import DecisionTreeClassifier\n",
    "from sklearn.feature_extraction.text import TfidfVectorizer, CountVectorizer\n",
    "from sklearn.linear_model import LogisticRegression\n",
    "from sklearn.svm import LinearSVC\n",
    "from sklearn.metrics import f1_score, accuracy_score, confusion_matrix, roc_auc_score, roc_curve, precision_score, recall_score, precision_recall_curve\n"
   ]
  },
  {
   "cell_type": "code",
   "execution_count": 2,
   "id": "ffb1bd70-641b-40a4-a996-198b5fef0522",
   "metadata": {},
   "outputs": [
    {
     "data": {
      "text/html": [
       "<div>\n",
       "<style scoped>\n",
       "    .dataframe tbody tr th:only-of-type {\n",
       "        vertical-align: middle;\n",
       "    }\n",
       "\n",
       "    .dataframe tbody tr th {\n",
       "        vertical-align: top;\n",
       "    }\n",
       "\n",
       "    .dataframe thead th {\n",
       "        text-align: right;\n",
       "    }\n",
       "</style>\n",
       "<table border=\"1\" class=\"dataframe\">\n",
       "  <thead>\n",
       "    <tr style=\"text-align: right;\">\n",
       "      <th></th>\n",
       "      <th>text</th>\n",
       "      <th>toxic</th>\n",
       "    </tr>\n",
       "  </thead>\n",
       "  <tbody>\n",
       "    <tr>\n",
       "      <th>0</th>\n",
       "      <td>Explanation\\nWhy the edits made under my usern...</td>\n",
       "      <td>0</td>\n",
       "    </tr>\n",
       "    <tr>\n",
       "      <th>1</th>\n",
       "      <td>D'aww! He matches this background colour I'm s...</td>\n",
       "      <td>0</td>\n",
       "    </tr>\n",
       "    <tr>\n",
       "      <th>2</th>\n",
       "      <td>Hey man, I'm really not trying to edit war. It...</td>\n",
       "      <td>0</td>\n",
       "    </tr>\n",
       "    <tr>\n",
       "      <th>3</th>\n",
       "      <td>\"\\nMore\\nI can't make any real suggestions on ...</td>\n",
       "      <td>0</td>\n",
       "    </tr>\n",
       "    <tr>\n",
       "      <th>4</th>\n",
       "      <td>You, sir, are my hero. Any chance you remember...</td>\n",
       "      <td>0</td>\n",
       "    </tr>\n",
       "    <tr>\n",
       "      <th>...</th>\n",
       "      <td>...</td>\n",
       "      <td>...</td>\n",
       "    </tr>\n",
       "    <tr>\n",
       "      <th>159566</th>\n",
       "      <td>\":::::And for the second time of asking, when ...</td>\n",
       "      <td>0</td>\n",
       "    </tr>\n",
       "    <tr>\n",
       "      <th>159567</th>\n",
       "      <td>You should be ashamed of yourself \\n\\nThat is ...</td>\n",
       "      <td>0</td>\n",
       "    </tr>\n",
       "    <tr>\n",
       "      <th>159568</th>\n",
       "      <td>Spitzer \\n\\nUmm, theres no actual article for ...</td>\n",
       "      <td>0</td>\n",
       "    </tr>\n",
       "    <tr>\n",
       "      <th>159569</th>\n",
       "      <td>And it looks like it was actually you who put ...</td>\n",
       "      <td>0</td>\n",
       "    </tr>\n",
       "    <tr>\n",
       "      <th>159570</th>\n",
       "      <td>\"\\nAnd ... I really don't think you understand...</td>\n",
       "      <td>0</td>\n",
       "    </tr>\n",
       "  </tbody>\n",
       "</table>\n",
       "<p>159571 rows × 2 columns</p>\n",
       "</div>"
      ],
      "text/plain": [
       "                                                     text  toxic\n",
       "0       Explanation\\nWhy the edits made under my usern...      0\n",
       "1       D'aww! He matches this background colour I'm s...      0\n",
       "2       Hey man, I'm really not trying to edit war. It...      0\n",
       "3       \"\\nMore\\nI can't make any real suggestions on ...      0\n",
       "4       You, sir, are my hero. Any chance you remember...      0\n",
       "...                                                   ...    ...\n",
       "159566  \":::::And for the second time of asking, when ...      0\n",
       "159567  You should be ashamed of yourself \\n\\nThat is ...      0\n",
       "159568  Spitzer \\n\\nUmm, theres no actual article for ...      0\n",
       "159569  And it looks like it was actually you who put ...      0\n",
       "159570  \"\\nAnd ... I really don't think you understand...      0\n",
       "\n",
       "[159571 rows x 2 columns]"
      ]
     },
     "metadata": {},
     "output_type": "display_data"
    },
    {
     "name": "stdout",
     "output_type": "stream",
     "text": [
      "\n",
      "<class 'pandas.core.frame.DataFrame'>\n",
      "RangeIndex: 159571 entries, 0 to 159570\n",
      "Data columns (total 2 columns):\n",
      " #   Column  Non-Null Count   Dtype \n",
      "---  ------  --------------   ----- \n",
      " 0   text    159571 non-null  object\n",
      " 1   toxic   159571 non-null  int64 \n",
      "dtypes: int64(1), object(1)\n",
      "memory usage: 2.4+ MB\n",
      "None\n",
      "\n",
      "               toxic\n",
      "count  159571.000000\n",
      "mean        0.101679\n",
      "std         0.302226\n",
      "min         0.000000\n",
      "25%         0.000000\n",
      "50%         0.000000\n",
      "75%         0.000000\n",
      "max         1.000000\n"
     ]
    }
   ],
   "source": [
    "df = pd.read_csv('https://code.s3.yandex.net/datasets/toxic_comments.csv')\n",
    "#df = pd.read_csv('/home/arteev/ds/DS_course/toxic_comments.csv')\n",
    "\n",
    "#df = df.sample(120000).reset_index(drop=True)\n",
    "display(df)\n",
    "print()\n",
    "print(df.info())\n",
    "print()\n",
    "print(df.describe())"
   ]
  },
  {
   "cell_type": "code",
   "execution_count": 3,
   "id": "c901f1f9-6a52-4e87-9275-d8cf4bdd8931",
   "metadata": {},
   "outputs": [
    {
     "data": {
      "image/png": "[encoded data removed]",
      "text/plain": [
       "<Figure size 432x288 with 1 Axes>"
      ]
     },
     "metadata": {
      "needs_background": "light"
     },
     "output_type": "display_data"
    }
   ],
   "source": [
    "df['toxic'].hist()\n",
    "plt.title(\"Гистограмма встречаемости токсичных комментов\")\n",
    "\n",
    "plt.ylabel(\"Количество комментариев\")\n",
    "plt.xlabel(\"Типы комментариев\")\n",
    "plt.show()"
   ]
  },
  {
   "cell_type": "markdown",
   "id": "230af982-7e14-417a-b6b6-5160536ff8b0",
   "metadata": {},
   "source": [
    "#### Вывод\n",
    "- в тексте присутствует много лишних символов\n",
    "- присутствует дисбаланс классов\n",
    "- пропусков нет\n",
    "- типы данных в порядке"
   ]
  },
  {
   "cell_type": "code",
   "execution_count": 4,
   "id": "7081e405-84d7-4b8d-ae13-5ab2718b74e8",
   "metadata": {},
   "outputs": [
    {
     "data": {
      "image/png": "[encoded data removed]",
      "text/plain": [
       "<Figure size 720x432 with 1 Axes>"
      ]
     },
     "metadata": {
      "needs_background": "light"
     },
     "output_type": "display_data"
    },
    {
     "data": {
      "image/png": "[encoded data removed]",
      "text/plain": [
       "<Figure size 432x288 with 1 Axes>"
      ]
     },
     "metadata": {
      "needs_background": "light"
     },
     "output_type": "display_data"
    }
   ],
   "source": [
    "bins=np.linspace(0,1000,50)\n",
    "\n",
    "df['body_len'] = df['text'].apply(lambda x: len(x)-x.count(\" \"))\n",
    "plt.subplots(figsize=(10,6))\n",
    "\n",
    "plt.hist(df[df['toxic']==0]['body_len'], bins, alpha=0.5, label='Обычный текст')\n",
    "plt.hist(df[df['toxic']==1]['body_len'], bins, alpha=0.5, label='Токсичный текст')\n",
    "\n",
    "plt.title('Гистограмма длин комментариев.')\n",
    "plt.ylabel('Частота сообщений')\n",
    "plt.xlabel('Длина сообщений')\n",
    "plt.axvline(df['body_len'].mean(), label=(\"Среднее - {:.2f}\".format(df['body_len'].mean())))\n",
    "plt.axvline(df['body_len'].mean()+df['body_len'].std(), linestyle=\"--\", color=\"k\", label=(\"std - {:.2f}\".format(df['body_len'].std())))\n",
    "plt.axvline(df['body_len'].median(), linestyle=\"-\", color=\"g\", label=(\"Медиана - {:.2f}\".format(df['body_len'].median())))\n",
    "\n",
    "plt.legend(loc='upper right')\n",
    "plt.show()\n",
    "\n",
    "df.boxplot(column='body_len')\n",
    "plt.title(\"Boxplot длины сообщений\")\n",
    "plt.ylabel(\"Длина сообщений\")\n",
    "plt.show()"
   ]
  },
  {
   "cell_type": "markdown",
   "id": "c2f8c63a-d2a4-4efd-815a-f63dc7677a13",
   "metadata": {},
   "source": [
    "#### Вывод\n",
    "- токсичные комментарии отличаются по длине и количеству. Они более короткие и их меньше."
   ]
  },
  {
   "cell_type": "markdown",
   "id": "dbdb7c0b-c4f6-4fd8-9eca-2a7feb721ab1",
   "metadata": {},
   "source": [
    "## Предобработка данных"
   ]
  },
  {
   "cell_type": "markdown",
   "id": "efa648be-d839-4d6a-ab61-b7104ca590f9",
   "metadata": {},
   "source": [
    "#### Удалим текста длиной более 2000 символов"
   ]
  },
  {
   "cell_type": "code",
   "execution_count": 5,
   "id": "eadf2dc2-e816-4211-8e2e-11b886e27a53",
   "metadata": {},
   "outputs": [
    {
     "name": "stdout",
     "output_type": "stream",
     "text": [
      "text        156559\n",
      "toxic       156559\n",
      "body_len    156559\n",
      "dtype: int64\n"
     ]
    }
   ],
   "source": [
    "df = df.drop(df[df['body_len']>2000].index)\n",
    "print(df.count())"
   ]
  },
  {
   "cell_type": "code",
   "execution_count": 6,
   "id": "379a8f63-b662-4922-9462-41997a982590",
   "metadata": {},
   "outputs": [
    {
     "name": "stderr",
     "output_type": "stream",
     "text": [
      "[nltk_data] Downloading package stopwords to /home/arteev/nltk_data...\n",
      "[nltk_data]   Package stopwords is already up-to-date!\n",
      "[nltk_data] Downloading package averaged_perceptron_tagger to\n",
      "[nltk_data]     /home/arteev/nltk_data...\n",
      "[nltk_data]   Package averaged_perceptron_tagger is already up-to-\n",
      "[nltk_data]       date!\n",
      "[nltk_data] Downloading package wordnet to /home/arteev/nltk_data...\n",
      "[nltk_data]   Package wordnet is already up-to-date!\n",
      "[nltk_data] Downloading package punkt to /home/arteev/nltk_data...\n",
      "[nltk_data]   Package punkt is already up-to-date!\n"
     ]
    },
    {
     "data": {
      "text/html": [
       "<div>\n",
       "<style scoped>\n",
       "    .dataframe tbody tr th:only-of-type {\n",
       "        vertical-align: middle;\n",
       "    }\n",
       "\n",
       "    .dataframe tbody tr th {\n",
       "        vertical-align: top;\n",
       "    }\n",
       "\n",
       "    .dataframe thead th {\n",
       "        text-align: right;\n",
       "    }\n",
       "</style>\n",
       "<table border=\"1\" class=\"dataframe\">\n",
       "  <thead>\n",
       "    <tr style=\"text-align: right;\">\n",
       "      <th></th>\n",
       "      <th>text</th>\n",
       "      <th>toxic</th>\n",
       "      <th>body_len</th>\n",
       "      <th>clear_text</th>\n",
       "      <th>lower_text</th>\n",
       "      <th>lemm_text</th>\n",
       "    </tr>\n",
       "  </thead>\n",
       "  <tbody>\n",
       "    <tr>\n",
       "      <th>0</th>\n",
       "      <td>Explanation\\nWhy the edits made under my usern...</td>\n",
       "      <td>0</td>\n",
       "      <td>223</td>\n",
       "      <td>Explanation Why the edits made under my userna...</td>\n",
       "      <td>explanation why the edits made under my userna...</td>\n",
       "      <td>explanation why the edits make under my userna...</td>\n",
       "    </tr>\n",
       "    <tr>\n",
       "      <th>1</th>\n",
       "      <td>D'aww! He matches this background colour I'm s...</td>\n",
       "      <td>0</td>\n",
       "      <td>95</td>\n",
       "      <td>D aww He matches this background colour I m se...</td>\n",
       "      <td>d aww he matches this background colour i m se...</td>\n",
       "      <td>d aww he match this background colour i m seem...</td>\n",
       "    </tr>\n",
       "    <tr>\n",
       "      <th>2</th>\n",
       "      <td>Hey man, I'm really not trying to edit war. It...</td>\n",
       "      <td>0</td>\n",
       "      <td>192</td>\n",
       "      <td>Hey man I m really not trying to edit war It s...</td>\n",
       "      <td>hey man i m really not trying to edit war it s...</td>\n",
       "      <td>hey man i m really not try to edit war it s ju...</td>\n",
       "    </tr>\n",
       "    <tr>\n",
       "      <th>3</th>\n",
       "      <td>\"\\nMore\\nI can't make any real suggestions on ...</td>\n",
       "      <td>0</td>\n",
       "      <td>511</td>\n",
       "      <td>More I can t make any real suggestions on impr...</td>\n",
       "      <td>more i can t make any real suggestions on impr...</td>\n",
       "      <td>more i can t make any real suggestion on impro...</td>\n",
       "    </tr>\n",
       "    <tr>\n",
       "      <th>4</th>\n",
       "      <td>You, sir, are my hero. Any chance you remember...</td>\n",
       "      <td>0</td>\n",
       "      <td>55</td>\n",
       "      <td>You sir are my hero Any chance you remember wh...</td>\n",
       "      <td>you sir are my hero any chance you remember wh...</td>\n",
       "      <td>you sir be my hero any chance you remember wha...</td>\n",
       "    </tr>\n",
       "  </tbody>\n",
       "</table>\n",
       "</div>"
      ],
      "text/plain": [
       "                                                text  toxic  body_len  \\\n",
       "0  Explanation\\nWhy the edits made under my usern...      0       223   \n",
       "1  D'aww! He matches this background colour I'm s...      0        95   \n",
       "2  Hey man, I'm really not trying to edit war. It...      0       192   \n",
       "3  \"\\nMore\\nI can't make any real suggestions on ...      0       511   \n",
       "4  You, sir, are my hero. Any chance you remember...      0        55   \n",
       "\n",
       "                                          clear_text  \\\n",
       "0  Explanation Why the edits made under my userna...   \n",
       "1  D aww He matches this background colour I m se...   \n",
       "2  Hey man I m really not trying to edit war It s...   \n",
       "3  More I can t make any real suggestions on impr...   \n",
       "4  You sir are my hero Any chance you remember wh...   \n",
       "\n",
       "                                          lower_text  \\\n",
       "0  explanation why the edits made under my userna...   \n",
       "1  d aww he matches this background colour i m se...   \n",
       "2  hey man i m really not trying to edit war it s...   \n",
       "3  more i can t make any real suggestions on impr...   \n",
       "4  you sir are my hero any chance you remember wh...   \n",
       "\n",
       "                                           lemm_text  \n",
       "0  explanation why the edits make under my userna...  \n",
       "1  d aww he match this background colour i m seem...  \n",
       "2  hey man i m really not try to edit war it s ju...  \n",
       "3  more i can t make any real suggestion on impro...  \n",
       "4  you sir be my hero any chance you remember wha...  "
      ]
     },
     "metadata": {},
     "output_type": "display_data"
    }
   ],
   "source": [
    "nltk.download('stopwords')\n",
    "\n",
    "def get_wordnet_pos(word):\n",
    "    \"\"\"Map POS tag to first character lemmatize() accepts\"\"\"\n",
    "    tag = nltk.pos_tag([word])[0][1][0].upper()\n",
    "    tag_dict = {\"J\": wordnet.ADJ,\n",
    "                \"N\": wordnet.NOUN,\n",
    "                \"V\": wordnet.VERB,\n",
    "                \"R\": wordnet.ADV}\n",
    "\n",
    "    return tag_dict.get(tag, wordnet.NOUN)\n",
    "\n",
    "wnl = WordNetLemmatizer()\n",
    "nltk.download('averaged_perceptron_tagger')\n",
    "nltk.download('wordnet')\n",
    "nltk.download('punkt')\n",
    "\n",
    "def lemmatizer(text):\n",
    "    return \" \".join([wnl.lemmatize(w, get_wordnet_pos(w)) for w in nltk.word_tokenize(text)])\n",
    "\n",
    "\n",
    "def clear_text(text):\n",
    "    return \" \".join(re.sub(r'[^a-zA-Z]', ' ', text).split())\n",
    "\n",
    "df['clear_text'] = df['text'].apply(clear_text)\n",
    "df['lower_text'] = df['clear_text'].apply(lambda s: s.lower())\n",
    "df['lemm_text'] = df['lower_text'].apply(lemmatizer)\n",
    "\n",
    "display(df.head())"
   ]
  },
  {
   "cell_type": "markdown",
   "id": "e395a151-9dca-48f4-9887-a657b0b973dc",
   "metadata": {},
   "source": [
    "#### Чистка текста\n",
    "- почистили текст от лишних символов\n",
    "- привели к нижнему регистру\n",
    "- лемматизировали текст\n",
    "- удалили текста с длиной > 2000 символов"
   ]
  },
  {
   "cell_type": "code",
   "execution_count": 7,
   "id": "5ead13a5-637b-43e4-a884-0342954be1df",
   "metadata": {},
   "outputs": [],
   "source": [
    "train, test = train_test_split(df, test_size=0.2, random_state=12345)\n",
    "train = train.reset_index(drop=True)\n",
    "test = test.reset_index(drop=True)\n",
    "\n",
    "train_corpus = train['lemm_text'].values.astype('U')\n",
    "test_corpus = test['lemm_text'].values.astype('U')\n"
   ]
  },
  {
   "cell_type": "markdown",
   "id": "39b2e7e2-4d2f-4406-a865-766c6d644edf",
   "metadata": {},
   "source": [
    "### Векторизация текста"
   ]
  },
  {
   "cell_type": "code",
   "execution_count": 8,
   "id": "670431ab-1f75-41a8-9705-fbbb0f7da4b5",
   "metadata": {},
   "outputs": [],
   "source": [
    "stop_words = set(stopwords.words('english'))\n",
    "tfidf_vectorizer = TfidfVectorizer( stop_words=stop_words) "
   ]
  },
  {
   "cell_type": "code",
   "execution_count": 9,
   "id": "601ddb64-1239-4106-8702-5c11924cf494",
   "metadata": {},
   "outputs": [
    {
     "data": {
      "text/plain": [
       "TfidfVectorizer(stop_words={'a', 'about', 'above', 'after', 'again', 'against',\n",
       "                            'ain', 'all', 'am', 'an', 'and', 'any', 'are',\n",
       "                            'aren', \"aren't\", 'as', 'at', 'be', 'because',\n",
       "                            'been', 'before', 'being', 'below', 'between',\n",
       "                            'both', 'but', 'by', 'can', 'couldn', \"couldn't\", ...})"
      ]
     },
     "execution_count": 9,
     "metadata": {},
     "output_type": "execute_result"
    }
   ],
   "source": [
    "tfidf_vectorizer.fit(df['lemm_text'].values.astype('U'))"
   ]
  },
  {
   "cell_type": "code",
   "execution_count": 10,
   "id": "c5cd9759-6c1b-41e1-93c5-fcfc45669d54",
   "metadata": {},
   "outputs": [],
   "source": [
    "train_features =  tfidf_vectorizer.transform(train_corpus)\n",
    "test_features = tfidf_vectorizer.transform(test_corpus)"
   ]
  },
  {
   "cell_type": "code",
   "execution_count": 11,
   "id": "f553763d-3d43-4d44-b88b-a01269157608",
   "metadata": {},
   "outputs": [
    {
     "name": "stdout",
     "output_type": "stream",
     "text": [
      "(125247, 135663) (31312, 135663)\n"
     ]
    }
   ],
   "source": [
    "print(train_features.shape, test_features.shape)"
   ]
  },
  {
   "cell_type": "code",
   "execution_count": 12,
   "id": "7c46b643-8b80-4b60-aba0-b0485343cec7",
   "metadata": {},
   "outputs": [],
   "source": [
    "train_target = train['toxic']\n",
    "test_target = test['toxic']"
   ]
  },
  {
   "cell_type": "markdown",
   "id": "3e834fee-eb9c-411c-82eb-280915f0b806",
   "metadata": {},
   "source": [
    "#### Итог векторизации\n",
    "- разделили датасет на train и test\n",
    "- инициализировали модель векторизации TF-IDF с удалением стоп слов\n",
    "- преобразовали тексты в векторы"
   ]
  },
  {
   "cell_type": "code",
   "execution_count": 13,
   "id": "7f08718f-bd7f-4264-8bb8-3f4369c2bbda",
   "metadata": {},
   "outputs": [],
   "source": [
    "def calc_scores(true, predict):\n",
    "    scores_dict = {}\n",
    "    scores_dict['f1'] = f1_score(true, predict)\n",
    "    scores_dict['precis'] = precision_score(true, predict)\n",
    "    scores_dict['recall'] = recall_score(true, predict)\n",
    "    scores_dict['roc_auc'] = roc_auc_score(true, predict)\n",
    "    return scores_dict\n",
    "\n",
    "def print_scores(scores_dict):\n",
    "    print(\"   F1_score  {:.2f}\".format(scores_dict['f1']))\n",
    "    print(\"   Precision  {:.2f}\".format(scores_dict['precis']))\n",
    "    print(\"   Recall {:.2f}\".format(scores_dict['recall']))\n",
    "    print(\"   ROC-AUC {:.2f}\".format(scores_dict['roc_auc']))\n",
    "    \n",
    "def predict_and_score(features, target):\n",
    "    predictions = model.predict(features)\n",
    "\n",
    "    scores = calc_scores(target, predictions)        \n",
    "    print_scores(scores)"
   ]
  },
  {
   "cell_type": "markdown",
   "id": "1860c4bf-0363-4030-973a-15875d298183",
   "metadata": {},
   "source": [
    "## Обучение\n",
    "Обучим следующие модели  LogisticRegression, LinearSVC, DecisionTree"
   ]
  },
  {
   "cell_type": "code",
   "execution_count": 14,
   "id": "3ab994b5-87da-4386-b989-5aaa363b731b",
   "metadata": {},
   "outputs": [
    {
     "name": "stdout",
     "output_type": "stream",
     "text": [
      "LogisticRegression\n",
      "Best threshold  0.24000000000000002\n",
      "   F1_score  0.83\n",
      "   Precision  0.83\n",
      "   Recall 0.83\n",
      "   ROC-AUC 0.91\n",
      "\n",
      "Predict with best threshold\n",
      "   F1_score  0.78\n",
      "   Precision  0.80\n",
      "   Recall 0.76\n",
      "   ROC-AUC 0.87\n",
      "CPU times: user 1min 17s, sys: 3min 19s, total: 4min 37s\n",
      "Wall time: 24.8 s\n"
     ]
    }
   ],
   "source": [
    "%%time\n",
    "\n",
    "model = LogisticRegression(random_state=12345, max_iter=1000)\n",
    "model.fit(train_features, train_target)\n",
    "\n",
    "predicted_probabilities = model.predict_proba(train_features)\n",
    "\n",
    "\n",
    "probabilities_once = predicted_probabilities[:, 1]\n",
    "max_f1 = 0\n",
    "scores = {}\n",
    "f1_list = []\n",
    "for threashold in np.arange(0.1, 0.3, 0.02):\n",
    "    predicted_valid = probabilities_once>threashold\n",
    "    f1 = f1_score(train_target, predicted_valid)\n",
    "    f1_list.append(f1)\n",
    "    \n",
    "    if f1 > max_f1:\n",
    "        max_f1 = f1\n",
    "        best_treashold = threashold\n",
    "        scores = calc_scores(train_target, predicted_valid)\n",
    "\n",
    "print(\"LogisticRegression\")\n",
    "print(\"Best threshold \", best_treashold)       \n",
    "print_scores(scores)\n",
    "\n",
    "print()\n",
    "print(\"Predict with best threshold\")\n",
    "predicted_probabilities = model.predict_proba(test_features)\n",
    "\n",
    "probabilities_once = predicted_probabilities[:, 1]\n",
    "predictions = probabilities_once>best_treashold\n",
    "\n",
    "scores = calc_scores(test_target, predictions)        \n",
    "print_scores(scores)"
   ]
  },
  {
   "cell_type": "code",
   "execution_count": 15,
   "id": "83775c94-fb3f-408d-8c66-4eef08792b96",
   "metadata": {},
   "outputs": [
    {
     "data": {
      "text/plain": [
       "Text(0, 0.5, 'F1')"
      ]
     },
     "execution_count": 15,
     "metadata": {},
     "output_type": "execute_result"
    },
    {
     "data": {
      "image/png": "[encoded data removed]",
      "text/plain": [
       "<Figure size 432x288 with 1 Axes>"
      ]
     },
     "metadata": {
      "needs_background": "light"
     },
     "output_type": "display_data"
    }
   ],
   "source": [
    "plt.plot(np.arange(0.1, 0.3, 0.02), f1_list)\n",
    "plt.grid()\n",
    "plt.title(\"Зависимость F1 от порога классификации для LogisticRegression\")\n",
    "plt.xlabel(\"Порог\")\n",
    "plt.ylabel(\"F1\")"
   ]
  },
  {
   "cell_type": "code",
   "execution_count": 16,
   "id": "906bfc3d-ecd3-4081-868d-02856c9df0c4",
   "metadata": {},
   "outputs": [
    {
     "name": "stdout",
     "output_type": "stream",
     "text": [
      "LogisticRegression cross_val score 0.74\n",
      "CPU times: user 5min 25s, sys: 13min 5s, total: 18min 30s\n",
      "Wall time: 1min 58s\n"
     ]
    }
   ],
   "source": [
    "%%time\n",
    "\n",
    "model = LogisticRegression(random_state=12345, max_iter=1000, class_weight='balanced')\n",
    "model.fit(train_features, train_target)\n",
    "\n",
    "steps = [('vectorizer', tfidf_vectorizer), ('model', model)]\n",
    "\n",
    "pipeline = Pipeline(steps)\n",
    "cross_score = cross_val_score(pipeline, train_corpus, train_target, cv=5, scoring='f1')\n",
    "\n",
    "print(\"LogisticRegression cross_val score {:.2f}\".format(cross_score.sum()/len(cross_score)))"
   ]
  },
  {
   "cell_type": "code",
   "execution_count": 17,
   "id": "aca033b9-ce2e-483c-816b-fc45646333a5",
   "metadata": {},
   "outputs": [],
   "source": [
    "predictions = model.predict(test_features)"
   ]
  },
  {
   "cell_type": "code",
   "execution_count": 18,
   "id": "ad88bcb6-d11e-4145-863a-cb56c16ee897",
   "metadata": {
    "tags": []
   },
   "outputs": [
    {
     "name": "stdout",
     "output_type": "stream",
     "text": [
      "   F1_score  0.75\n",
      "   Precision  0.67\n",
      "   Recall 0.85\n",
      "   ROC-AUC 0.90\n"
     ]
    }
   ],
   "source": [
    "scores = calc_scores(test_target, predictions)        \n",
    "print_scores(scores)"
   ]
  },
  {
   "cell_type": "markdown",
   "id": "8293fa83-7405-49c7-9dcf-3e2643f3618b",
   "metadata": {},
   "source": [
    "#### Вывод\n",
    "\n",
    "- LogisticRegression показала хороший score = 0.77"
   ]
  },
  {
   "cell_type": "markdown",
   "id": "3e221e5d-7a88-4c72-8806-cbd41f830246",
   "metadata": {},
   "source": [
    "#### LinearSVC"
   ]
  },
  {
   "cell_type": "code",
   "execution_count": 19,
   "id": "5c59872c-bacf-4c85-88a1-e70e0f01dc30",
   "metadata": {},
   "outputs": [
    {
     "name": "stdout",
     "output_type": "stream",
     "text": [
      "LinearSVC. Train scores\n",
      "   F1_score  0.91\n",
      "   Precision  0.83\n",
      "   Recall 0.99\n",
      "   ROC-AUC 0.99\n",
      "CPU times: user 3.36 s, sys: 24.5 ms, total: 3.39 s\n",
      "Wall time: 3.39 s\n"
     ]
    }
   ],
   "source": [
    "%%time\n",
    "model = LinearSVC(random_state=12345, class_weight='balanced')\n",
    "model.fit(train_features, train_target)\n",
    "\n",
    "print(\"LinearSVC. Train scores\")\n",
    "predict_and_score(train_features, train_target)"
   ]
  },
  {
   "cell_type": "code",
   "execution_count": 20,
   "id": "51ddef48-b21b-4db8-abb9-2a9bf6222bce",
   "metadata": {},
   "outputs": [
    {
     "name": "stdout",
     "output_type": "stream",
     "text": [
      "LinearSVC. Test scores\n",
      "   F1_score  0.76\n",
      "   Precision  0.70\n",
      "   Recall 0.82\n",
      "   ROC-AUC 0.89\n"
     ]
    }
   ],
   "source": [
    "print(\"LinearSVC. Test scores\")\n",
    "\n",
    "predict_and_score(test_features, test_target)"
   ]
  },
  {
   "cell_type": "markdown",
   "id": "8d1a042b-0ae9-4bbf-a408-92ffabd65816",
   "metadata": {},
   "source": [
    "#### Decision Tree"
   ]
  },
  {
   "cell_type": "code",
   "execution_count": 21,
   "id": "9e5ab61b-3338-4aca-8bca-a5cd055d9bb9",
   "metadata": {},
   "outputs": [
    {
     "name": "stdout",
     "output_type": "stream",
     "text": [
      "Decision Tree. Train scores\n",
      "   F1_score  1.00\n",
      "   Precision  1.00\n",
      "   Recall 1.00\n",
      "   ROC-AUC 1.00\n",
      "CPU times: user 4min 19s, sys: 0 ns, total: 4min 19s\n",
      "Wall time: 4min 20s\n"
     ]
    }
   ],
   "source": [
    "%%time\n",
    "\n",
    "model = DecisionTreeClassifier(random_state=12345)\n",
    "model.fit(train_features, train_target)\n",
    "\n",
    "print(\"Decision Tree. Train scores\")\n",
    "predict_and_score(train_features, train_target)"
   ]
  },
  {
   "cell_type": "code",
   "execution_count": 22,
   "id": "a1a98ca6-7b76-4093-8fde-45a76549e988",
   "metadata": {},
   "outputs": [
    {
     "name": "stdout",
     "output_type": "stream",
     "text": [
      "Decision Tree. Test scores\n",
      "   F1_score  0.71\n",
      "   Precision  0.73\n",
      "   Recall 0.70\n",
      "   ROC-AUC 0.84\n"
     ]
    }
   ],
   "source": [
    "print(\"Decision Tree. Test scores\")\n",
    "predict_and_score(test_features, test_target)"
   ]
  },
  {
   "cell_type": "markdown",
   "id": "c98ae1b2-1843-4de7-b07c-9e559e4b98f7",
   "metadata": {},
   "source": [
    "## Выводы\n",
    "- Лучший скор показала LogisticRegression 0.78, а лучшее время LinearSVC 3s с результатом 0.76\n",
    "- DecisionTree обучается дольше всех и сильно переобучается, что видно на результате предсказания по train F1=1 и test F1=0.71\n",
    "- Лемматизация занимает очень много времени и не дает хорошей прибавки к f1.\n"
   ]
  },
  {
   "cell_type": "markdown",
   "id": "53cb2826-dd51-4151-8f53-6e0d7862cef0",
   "metadata": {},
   "source": [
    "## Чек-лист проверки"
   ]
  },
  {
   "cell_type": "markdown",
   "id": "ead1421b-4dd7-423f-9734-0ae13da7218c",
   "metadata": {},
   "source": [
    "- [x]  Jupyter Notebook открыт\n",
    "- [x]  Весь код выполняется без ошибок\n",
    "- [x]  Ячейки с кодом расположены в порядке исполнения\n",
    "- [x]  Данные загружены и подготовлены\n",
    "- [x]  Модели обучены\n",
    "- [x]  Значение метрики *F1* не меньше 0.75\n",
    "- [x]  Выводы написаны"
   ]
  },
  {
   "cell_type": "code",
   "execution_count": null,
   "id": "9ac8e8b4-35dc-47ee-b7c3-cd0b84b01243",
   "metadata": {},
   "outputs": [],
   "source": []
  }
 ],
 "metadata": {
  "kernelspec": {
   "display_name": "Python 3",
   "language": "python",
   "name": "python3"
  },
  "language_info": {
   "codemirror_mode": {
    "name": "ipython",
    "version": 3
   },
   "file_extension": ".py",
   "mimetype": "text/x-python",
   "name": "python",
   "nbconvert_exporter": "python",
   "pygments_lexer": "ipython3",
   "version": "3.8.5"
  }
 },
 "nbformat": 4,
 "nbformat_minor": 5
}
